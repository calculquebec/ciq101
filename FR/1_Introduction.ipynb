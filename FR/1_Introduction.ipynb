{
 "cells": [
  {
   "cell_type": "markdown",
   "id": "0a7307cf-c2d2-4a0b-bb17-f4df6906c6d8",
   "metadata": {},
   "source": [
    "# Introduction à la théorie du calcul quantique\n",
    "9 octobre 2024\n",
    "\n",
    "**Enseignante**:    Denise Koch, denise.koch@calculquebec.ca\n",
    "**Assistant(e)s**:  Juliette Geoffrion, juliette.geoffrion@calculquebec.ca\n",
    "                    Kim Renaud, kim.renaud@calculquebec.ca\n",
    "\n",
    "***"
   ]
  },
  {
   "cell_type": "markdown",
   "id": "c89e65be-4913-4e18-9a85-2234d33b266c",
   "metadata": {},
   "source": [
    "# Contenu\n",
    "\n",
    "## Informations préliminaires\n",
    "- [Référence Python - commandes utiles](Preliminaries/0a_Python_Reference.ipynb)\n",
    "- [Vecteurs et opérations vectorielles](Preliminaries/0b_Vectors.ipynb)\n",
    "- [Matrices et opérations matricielles](Preliminaries/0c_Matrices.ipynb)\n"
   ]
  },
  {
   "cell_type": "markdown",
   "id": "73448add",
   "metadata": {},
   "source": [
    "# Références \n",
    "\n",
    "## Informatique quantique\n",
    "- Nielsen, Michael A., and Isaac Chuang. \"Quantum computation and quantum information.\" (2010)\n",
    "- [Tutoriel d'introduction à l'informatique quantique et à la programmation quantique](https://gitlab.com/qworld/bronze-qiskit)\n",
    "- [Tutoriel de niveau intermédiaire sur l'informatique et la programmation quantique](https://gitlab.com/qworld/silver)\n",
    "- [Aide-mémoire sur l'informatique quantique](https://www.meetiqm.com/resources/blog/quantum-computing-cheat-sheet-for-circuit-magicians/)\n",
    "\n",
    "## Python\n",
    "- [Concepts de base en Python](https://swcarpentry.github.io/python-novice-inflammation/)\n",
    "- [Tutoriel Numpy pour l'algèbre linéaire](https://realpython.com/numpy-tutorial/)\n",
    "\n",
    "## Quirk\n",
    "- [Simulateur graphique de circuits quantiques](https://algassert.com/quirk)\n"
   ]
  },
  {
   "cell_type": "code",
   "execution_count": null,
   "id": "03fc8f24",
   "metadata": {},
   "outputs": [],
   "source": []
  }
 ],
 "metadata": {
  "kernelspec": {
   "display_name": "Python 3 (ipykernel)",
   "language": "python",
   "name": "python3"
  },
  "language_info": {
   "codemirror_mode": {
    "name": "ipython",
    "version": 3
   },
   "file_extension": ".py",
   "mimetype": "text/x-python",
   "name": "python",
   "nbconvert_exporter": "python",
   "pygments_lexer": "ipython3",
   "version": "3.12.3"
  }
 },
 "nbformat": 4,
 "nbformat_minor": 5
}

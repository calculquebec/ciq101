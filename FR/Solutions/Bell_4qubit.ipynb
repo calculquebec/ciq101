{
 "cells": [
  {
   "attachments": {
    "e1bdc916-31ab-4dd6-b046-f2e5c73ea0b8.png": {
     "image/png": "[encoded data removed]"
    }
   },
   "cell_type": "raw",
   "id": "3185a6e9-9983-4c52-9f64-39bf20ee4be7",
   "metadata": {},
   "source": [
    "\n",
    "\n",
    "Allonger le circuit pour 4 qubits"
   ]
  },
  {
   "cell_type": "code",
   "execution_count": 27,
   "id": "07b9ec9f-bb4e-458d-bb8c-68da9d66db1a",
   "metadata": {},
   "outputs": [
    {
     "name": "stdout",
     "output_type": "stream",
     "text": [
      "Vecteur à 4 qubits =  [1 0 0 0 0 0 0 0 0 0 0 0 0 0 0 0]\n",
      "Psi_1 =  [0.25 0.   0.   0.   0.   0.   0.   0.   0.25 0.   0.   0.   0.   0.\n",
      " 0.   0.  ]\n",
      "Psi_2 =  [0.25 0.   0.   0.   0.   0.   0.   0.   0.   0.   0.   0.   0.25 0.\n",
      " 0.   0.  ]\n",
      "Psi_3 =  [0.25 0.   0.   0.   0.   0.   0.   0.   0.   0.   0.   0.   0.   0.\n",
      " 0.25 0.  ]\n",
      "Etat Bell à 4 qubits =  [0.25 0.   0.   0.   0.   0.   0.   0.   0.   0.   0.   0.   0.   0.\n",
      " 0.   0.25]\n"
     ]
    }
   ],
   "source": [
    "# État de Bell à 4 qubits\n",
    "import numpy as np\n",
    "\n",
    "v1 = [1,0]\n",
    "\n",
    "# Crée la superposition de 4 qubits dans l'état 0\n",
    "v_4 = np.kron(v1, np.kron(v1, np.kron(v1,v1)))\n",
    "print(\"Vecteur à 4 qubits = \",v_4)\n",
    "\n",
    "# Définir les portes Hadamard et Identité\n",
    "H = np.array([\n",
    "    [1,1],\n",
    "    [1,-1]      \n",
    "])\n",
    "\n",
    "I = np.array([\n",
    "    [1,0],\n",
    "    [0,1]\n",
    "])\n",
    "\n",
    "# Facteur de normalization pour une superposition de 4 qubits (1/sqrt(2^n))\n",
    "N = 1/np.sqrt(16)\n",
    "\n",
    "# Transformée de Hadamard sur 4 qubits\n",
    "tr_H = N*np.kron(H,np.kron(I,np.kron(I,I)))\n",
    "psi_1 = np.dot(v_4,tr_H)\n",
    "print(\"Psi_1 = \",psi_1)\n",
    "\n",
    "# Définir la porte CNOT\n",
    "cnot = np.array([\n",
    "    [1,0,0,0],\n",
    "    [0,1,0,0],\n",
    "    [0,0,0,1],\n",
    "    [0,0,1,0]\n",
    "])\n",
    "\n",
    "# Porte CNOT sur les qubits 1 et 2\n",
    "cnot_12 = np.kron(cnot,np.kron(I,I))\n",
    "psi_2 = np.dot(psi_1,cnot_12)\n",
    "print(\"Psi_2 = \",psi_2)\n",
    "\n",
    "# Porte CNOT sur les qubits 2 et 3\n",
    "cnot_23 = np.kron(I,np.kron(cnot,I))\n",
    "psi_3 = np.dot(psi_2,cnot_23)\n",
    "print(\"Psi_3 = \",psi_3)\n",
    "\n",
    "# Porte CNOT sur les qubits 3 et 4\n",
    "cnot_34 = np.kron(I,np.kron(I,cnot))\n",
    "psi_4 = np.dot(psi_3,cnot_34)\n",
    "\n",
    "# Résultat final\n",
    "print(\"Etat Bell à 4 qubits = \",psi_4)"
   ]
  },
  {
   "cell_type": "code",
   "execution_count": null,
   "id": "dcd3342b-89d8-4c52-a31e-6a2d76c0c7ab",
   "metadata": {},
   "outputs": [],
   "source": []
  }
 ],
 "metadata": {
  "kernelspec": {
   "display_name": "Python 3 (ipykernel)",
   "language": "python",
   "name": "python3"
  },
  "language_info": {
   "codemirror_mode": {
    "name": "ipython",
    "version": 3
   },
   "file_extension": ".py",
   "mimetype": "text/x-python",
   "name": "python",
   "nbconvert_exporter": "python",
   "pygments_lexer": "ipython3",
   "version": "3.12.3"
  }
 },
 "nbformat": 4,
 "nbformat_minor": 5
}

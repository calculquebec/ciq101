{
 "cells": [
  {
   "cell_type": "markdown",
   "id": "e5cee009-cc1b-4462-a165-3380bae177f2",
   "metadata": {},
   "source": [
    "**Exercise 1**"
   ]
  },
  {
   "cell_type": "code",
   "execution_count": 7,
   "id": "b52941fe-6fd5-4536-880a-6fffabb3db5f",
   "metadata": {},
   "outputs": [
    {
     "name": "stdout",
     "output_type": "stream",
     "text": [
      "[ 0.77428193 -0.63286057]\n",
      "[0.5995125 0.4005125]\n",
      "la somme du vecteur résultant = 1.0000249999999997\n"
     ]
    }
   ],
   "source": [
    "import numpy as np\n",
    "\n",
    "# Définissons les vecteurs d'états\n",
    "psi = [0.1,0.995]\n",
    "\n",
    "# Définissons l'opérateur pour la porte H\n",
    "H_0 = np.array([\n",
    "    [1,1],\n",
    "    [1,-1]      \n",
    "])\n",
    "\n",
    "H = (1/np.sqrt(2)) * H_0\n",
    "\n",
    "# Multiplions psi par la porte H\n",
    "resultat = np.dot(H,psi)\n",
    "\n",
    "print(resultat)\n",
    "\n",
    "# Est-ce que le résultat est normalisé?\n",
    "resultat_carre = np.square(resultat)\n",
    "print(resultat_carre)\n",
    "print(\"la somme du vecteur résultant =\", np.sum(resultat_carre))"
   ]
  },
  {
   "cell_type": "markdown",
   "id": "57fd9b62-20c1-47b9-969f-6398070d34c5",
   "metadata": {},
   "source": [
    "**Exercise 2**"
   ]
  },
  {
   "cell_type": "code",
   "execution_count": 14,
   "id": "8ca9c874-f7fd-481f-a63a-8ee1f442d281",
   "metadata": {},
   "outputs": [
    {
     "name": "stdout",
     "output_type": "stream",
     "text": [
      "registre =  [1 0 0 0 0 0 0 0 0 0 0 0 0 0 0 0]\n",
      "Opérateur de la transformée de Hadamard =  [[ 0.25  0.25  0.25  0.25  0.25  0.25  0.25  0.25  0.25  0.25  0.25  0.25\n",
      "   0.25  0.25  0.25  0.25]\n",
      " [ 0.25 -0.25  0.25 -0.25  0.25 -0.25  0.25 -0.25  0.25 -0.25  0.25 -0.25\n",
      "   0.25 -0.25  0.25 -0.25]\n",
      " [ 0.25  0.25 -0.25 -0.25  0.25  0.25 -0.25 -0.25  0.25  0.25 -0.25 -0.25\n",
      "   0.25  0.25 -0.25 -0.25]\n",
      " [ 0.25 -0.25 -0.25  0.25  0.25 -0.25 -0.25  0.25  0.25 -0.25 -0.25  0.25\n",
      "   0.25 -0.25 -0.25  0.25]\n",
      " [ 0.25  0.25  0.25  0.25 -0.25 -0.25 -0.25 -0.25  0.25  0.25  0.25  0.25\n",
      "  -0.25 -0.25 -0.25 -0.25]\n",
      " [ 0.25 -0.25  0.25 -0.25 -0.25  0.25 -0.25  0.25  0.25 -0.25  0.25 -0.25\n",
      "  -0.25  0.25 -0.25  0.25]\n",
      " [ 0.25  0.25 -0.25 -0.25 -0.25 -0.25  0.25  0.25  0.25  0.25 -0.25 -0.25\n",
      "  -0.25 -0.25  0.25  0.25]\n",
      " [ 0.25 -0.25 -0.25  0.25 -0.25  0.25  0.25 -0.25  0.25 -0.25 -0.25  0.25\n",
      "  -0.25  0.25  0.25 -0.25]\n",
      " [ 0.25  0.25  0.25  0.25  0.25  0.25  0.25  0.25 -0.25 -0.25 -0.25 -0.25\n",
      "  -0.25 -0.25 -0.25 -0.25]\n",
      " [ 0.25 -0.25  0.25 -0.25  0.25 -0.25  0.25 -0.25 -0.25  0.25 -0.25  0.25\n",
      "  -0.25  0.25 -0.25  0.25]\n",
      " [ 0.25  0.25 -0.25 -0.25  0.25  0.25 -0.25 -0.25 -0.25 -0.25  0.25  0.25\n",
      "  -0.25 -0.25  0.25  0.25]\n",
      " [ 0.25 -0.25 -0.25  0.25  0.25 -0.25 -0.25  0.25 -0.25  0.25  0.25 -0.25\n",
      "  -0.25  0.25  0.25 -0.25]\n",
      " [ 0.25  0.25  0.25  0.25 -0.25 -0.25 -0.25 -0.25 -0.25 -0.25 -0.25 -0.25\n",
      "   0.25  0.25  0.25  0.25]\n",
      " [ 0.25 -0.25  0.25 -0.25 -0.25  0.25 -0.25  0.25 -0.25  0.25 -0.25  0.25\n",
      "   0.25 -0.25  0.25 -0.25]\n",
      " [ 0.25  0.25 -0.25 -0.25 -0.25 -0.25  0.25  0.25 -0.25 -0.25  0.25  0.25\n",
      "   0.25  0.25 -0.25 -0.25]\n",
      " [ 0.25 -0.25 -0.25  0.25 -0.25  0.25  0.25 -0.25 -0.25  0.25  0.25 -0.25\n",
      "   0.25 -0.25 -0.25  0.25]]\n",
      "résultat =  [0.25 0.25 0.25 0.25 0.25 0.25 0.25 0.25 0.25 0.25 0.25 0.25 0.25 0.25\n",
      " 0.25 0.25]\n"
     ]
    }
   ],
   "source": [
    "import numpy as np\n",
    "\n",
    "# Créons un registre de 4 qubits dans l'état 0\n",
    "v0 = [1,0]\n",
    "\n",
    "r0 = np.kron(v0, np.kron(v0, np.kron(v0,v0)))\n",
    "print(\"registre = \",r0)\n",
    "\n",
    "#Créons l'opérateur de la transformée de Hadamard\n",
    "H_0 = np.array([\n",
    "    [1,1],\n",
    "    [1,-1]      \n",
    "])\n",
    "\n",
    "H = (1/np.sqrt(2)) * H_0\n",
    "\n",
    "trans_H = np.kron(H, np.kron(H, np.kron(H,H)))\n",
    "print(\"Opérateur de la transformée de Hadamard = \",trans_H)\n",
    "\n",
    "#Appliquons la transformée sur le registre\n",
    "resultat = np.dot(trans_H,r0)\n",
    "print(\"résultat = \",resultat)"
   ]
  },
  {
   "cell_type": "code",
   "execution_count": null,
   "id": "a466278e-be56-4b68-9533-087d401185cb",
   "metadata": {},
   "outputs": [],
   "source": []
  }
 ],
 "metadata": {
  "kernelspec": {
   "display_name": "Python 3 (ipykernel)",
   "language": "python",
   "name": "python3"
  },
  "language_info": {
   "codemirror_mode": {
    "name": "ipython",
    "version": 3
   },
   "file_extension": ".py",
   "mimetype": "text/x-python",
   "name": "python",
   "nbconvert_exporter": "python",
   "pygments_lexer": "ipython3",
   "version": "3.12.3"
  }
 },
 "nbformat": 4,
 "nbformat_minor": 5
}

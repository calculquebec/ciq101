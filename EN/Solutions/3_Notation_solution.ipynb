{
 "cells": [
  {
   "cell_type": "markdown",
   "id": "0d347ee1-70e5-4c96-ae88-e6d749f50649",
   "metadata": {},
   "source": [
    "**Exercise:** what is the scalar product of $\\bra{0}$ and $\\ket{1}$?"
   ]
  },
  {
   "cell_type": "code",
   "execution_count": 1,
   "id": "866f7156-9072-4a31-aa73-da2dfcb91596",
   "metadata": {},
   "outputs": [
    {
     "name": "stdout",
     "output_type": "stream",
     "text": [
      "0\n"
     ]
    }
   ],
   "source": [
    "import numpy as np\n",
    "\n",
    "# Define the vectors of the 0 and 1 states\n",
    "u = [1,0]\n",
    "v = [0,1]\n",
    "\n",
    "# Scalar product (numpy.dot)\n",
    "prods_uv = np.dot(u,v)\n",
    "print(prods_uv)"
   ]
  },
  {
   "cell_type": "code",
   "execution_count": null,
   "id": "8e74aae6-d14c-43df-9455-4d08028d7572",
   "metadata": {},
   "outputs": [],
   "source": []
  }
 ],
 "metadata": {
  "kernelspec": {
   "display_name": "Python 3 (ipykernel)",
   "language": "python",
   "name": "python3"
  },
  "language_info": {
   "codemirror_mode": {
    "name": "ipython",
    "version": 3
   },
   "file_extension": ".py",
   "mimetype": "text/x-python",
   "name": "python",
   "nbconvert_exporter": "python",
   "pygments_lexer": "ipython3",
   "version": "3.12.3"
  }
 },
 "nbformat": 4,
 "nbformat_minor": 5
}

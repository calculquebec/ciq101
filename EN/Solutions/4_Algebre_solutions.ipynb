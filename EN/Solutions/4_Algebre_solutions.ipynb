{
 "cells": [
  {
   "cell_type": "markdown",
   "id": "e5cee009-cc1b-4462-a165-3380bae177f2",
   "metadata": {},
   "source": [
    "**Exercise 1**"
   ]
  },
  {
   "cell_type": "code",
   "execution_count": null,
   "id": "b52941fe-6fd5-4536-880a-6fffabb3db5f",
   "metadata": {},
   "outputs": [],
   "source": [
    "import numpy as np\n",
    "\n",
    "# Define the psi vector\n",
    "psi = [0.1,0.995]\n",
    "\n",
    "# Define the operator for the Hadamard gate (H)\n",
    "H_0 = np.array([\n",
    "    [1,1],\n",
    "    [1,-1]      \n",
    "])\n",
    "\n",
    "H = (1/np.sqrt(2)) * H_0\n",
    "\n",
    "# Multiply the H operator to the psi vector\n",
    "result = np.dot(H,psi)\n",
    "\n",
    "print(result)\n",
    "\n",
    "# Is the result normalized?\n",
    "result_sq = np.square(result)\n",
    "print(result_sq)\n",
    "print(\"The sum of squares =\", np.sum(result_sq))"
   ]
  },
  {
   "cell_type": "markdown",
   "id": "57fd9b62-20c1-47b9-969f-6398070d34c5",
   "metadata": {},
   "source": [
    "**Exercise 2**"
   ]
  },
  {
   "cell_type": "code",
   "execution_count": null,
   "id": "8ca9c874-f7fd-481f-a63a-8ee1f442d281",
   "metadata": {},
   "outputs": [],
   "source": [
    "import numpy as np\n",
    "\n",
    "# Create a register of 4 qubits in the 0 state\n",
    "v0 = [1,0]\n",
    "\n",
    "r0 = np.kron(v0, np.kron(v0, np.kron(v0,v0)))\n",
    "print(\"register = \",r0)\n",
    "\n",
    "#Create an operator for the Hadamard transform\n",
    "H_0 = np.array([\n",
    "    [1,1],\n",
    "    [1,-1]      \n",
    "])\n",
    "\n",
    "H = (1/np.sqrt(2)) * H_0\n",
    "\n",
    "trans_H = np.kron(H, np.kron(H, np.kron(H,H)))\n",
    "print(\"Hadamard transform operator = \",trans_H)\n",
    "\n",
    "#Apply the transform to the result\n",
    "resultat = np.dot(trans_H,r0)\n",
    "print(\"résult = \",result)"
   ]
  },
  {
   "cell_type": "code",
   "execution_count": null,
   "id": "a466278e-be56-4b68-9533-087d401185cb",
   "metadata": {},
   "outputs": [],
   "source": []
  }
 ],
 "metadata": {
  "kernelspec": {
   "display_name": "Python 3 (ipykernel)",
   "language": "python",
   "name": "python3"
  },
  "language_info": {
   "codemirror_mode": {
    "name": "ipython",
    "version": 3
   },
   "file_extension": ".py",
   "mimetype": "text/x-python",
   "name": "python",
   "nbconvert_exporter": "python",
   "pygments_lexer": "ipython3",
   "version": "3.12.3"
  }
 },
 "nbformat": 4,
 "nbformat_minor": 5
}
